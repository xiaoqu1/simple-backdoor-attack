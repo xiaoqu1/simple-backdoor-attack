{
 "cells": [
  {
   "cell_type": "code",
   "execution_count": 1,
   "metadata": {},
   "outputs": [],
   "source": [
    "import numpy as np\n",
    "import torch\n",
    "import random\n",
    "from PIL import Image\n",
    "from matplotlib import pyplot as plt\n",
    "from torchvision import datasets, transforms\n",
    "from torch.utils.data import DataLoader\n",
    "import torch.nn as nn\n",
    "import torch.optim as optim\n",
    "batch_size=64"
   ]
  },
  {
   "cell_type": "code",
   "execution_count": 2,
   "metadata": {},
   "outputs": [],
   "source": [
    "def get_dataset(dir,name):\n",
    "    if name==\"mnist\":\n",
    "        train_dataset=datasets.MNIST(dir,train=True,download=True,transform=transforms.ToTensor())\n",
    "        eval_dataset=datasets.MNIST(dir,train=False,transform=transforms.ToTensor())\n",
    "    return train_dataset,eval_dataset\n",
    "# 添加像素点\n",
    "\n",
    "\n",
    "def add_pattern_bd(x, distance=2, pixel_value=255):\n",
    "    y = x\n",
    "    shape = y.shape\n",
    "    width, height = x.shape\n",
    "    y[width-distance, height-distance] = pixel_value\n",
    "    y[width-distance-1, height-distance-1] = pixel_value\n",
    "    y[width-distance, height-distance-2] = pixel_value\n",
    "    y[width-distance-2, height-distance] = pixel_value\n",
    "\n",
    "    return y\n",
    "\n",
    "\n",
    "def evaluate_model(model, test_dataset, add_pattern_bd=None, num_samples=1000):\n",
    "    right_7 = 0\n",
    "    wrong_5 = 0\n",
    "    wrong_else = 0\n",
    "    all_number = 0\n",
    "    poison_number = 0\n",
    "\n",
    "    with torch.no_grad():\n",
    "        for i in range(num_samples):\n",
    "            # 检查测试数据中是否有数字7\n",
    "            if test_dataset.targets[i] == 7:\n",
    "                all_number += 1\n",
    "\n",
    "                # 随机选择是否注入对抗样本\n",
    "                inject_poison = random.choice([True, False])\n",
    "                if inject_poison and add_pattern_bd is not None:\n",
    "                    data = add_pattern_bd(test_dataset.data[i].float())\n",
    "                    poison_number += 1\n",
    "                else:\n",
    "                    data = test_dataset.data[i].float()\n",
    "                output = model(data)\n",
    "\n",
    "                # 检查模型预测的结果是否正确\n",
    "                if output.argmax(dim=1, keepdim=True) == 7:\n",
    "                    right_7 += 1\n",
    "                elif output.argmax(dim=1, keepdim=True) == 5:\n",
    "                    wrong_5 += 1\n",
    "                else:\n",
    "                    wrong_else += 1\n",
    "                    print(output.argmax(dim=1, keepdim=True))\n",
    "\n",
    "    print(f\"样本一共有:{all_number}个\")\n",
    "    print(f\"毒化样本有{poison_number}个\")\n",
    "    print(f\"识别为7的有{right_7}个\")\n",
    "    print(f\"识别为5的有{wrong_5}个，识别为其他的有{wrong_else}个\")\n"
   ]
  },
  {
   "cell_type": "code",
   "execution_count": 3,
   "metadata": {},
   "outputs": [],
   "source": [
    "def train_model(model, dataloader, num_epochs, lr=0.001, device='cpu'):\n",
    "    \"\"\"\n",
    "    训练 PyTorch 模型\n",
    "    Args:\n",
    "        model: PyTorch 模型\n",
    "        dataloader: 数据载入器\n",
    "        num_epochs: 训练周期数\n",
    "        lr: 学习率\n",
    "        device: 计算设备（'cpu' 或 'cuda'）\n",
    "\n",
    "    Returns:\n",
    "        None\n",
    "    \"\"\"\n",
    "    criterion = nn.CrossEntropyLoss()\n",
    "    optimizer = optim.Adam(model.parameters(), lr=lr)\n",
    "\n",
    "    # 将模型移动到计算设备上\n",
    "    model.to(device)\n",
    "\n",
    "    for epoch in range(num_epochs):\n",
    "        running_loss = 0.0\n",
    "        for i, (inputs, labels) in enumerate(dataloader):\n",
    "            # 将输入数据和标签移动到计算设备\n",
    "            inputs, labels = inputs.to(device), labels.to(device)\n",
    "\n",
    "            # 前向传播\n",
    "            outputs = model(inputs)\n",
    "\n",
    "            # 计算损失\n",
    "            loss = criterion(outputs, labels)\n",
    "\n",
    "            # 反向传播和优化\n",
    "            optimizer.zero_grad()\n",
    "            loss.backward()\n",
    "            optimizer.step()\n",
    "\n",
    "            running_loss += loss.item()\n",
    "\n",
    "        # 打印每个epoch的损失\n",
    "        print('Epoch [%d/%d], Loss: %.4f' %(epoch+1, num_epochs, running_loss / len(dataloader)))"
   ]
  },
  {
   "cell_type": "code",
   "execution_count": 4,
   "metadata": {},
   "outputs": [],
   "source": [
    "# 定义神经网络\n",
    "class SimpleNet(nn.Module):\n",
    "    def __init__(self):\n",
    "        super(SimpleNet, self).__init__()\n",
    "        self.fc1 = nn.Linear(784, 128)  # 输入层-隐藏层\n",
    "        self.fc2 = nn.Linear(128, 10)   # 隐藏层-输出层\n",
    "        self.relu = nn.ReLU()           # ReLU激活函数\n",
    "\n",
    "    def forward(self, x):\n",
    "        x = x.view(-1, 784)  # 将输入转换为批次大小 x 784 的形状\n",
    "        x = self.relu(self.fc1(x))\n",
    "        x = self.fc2(x)\n",
    "        return x\n"
   ]
  },
  {
   "cell_type": "code",
   "execution_count": 5,
   "metadata": {},
   "outputs": [],
   "source": [
    "train_dataset,test_dataset=get_dataset('E:\\\\pycode\\\\jupyter\\\\Python\\\\minst_data','mnist')"
   ]
  },
  {
   "cell_type": "code",
   "execution_count": 6,
   "metadata": {},
   "outputs": [
    {
     "name": "stdout",
     "output_type": "stream",
     "text": [
      "1747\n"
     ]
    }
   ],
   "source": [
    "#构造毒化数据集\n",
    "k = 0\n",
    "for i in range(60000):\n",
    "    # 如果标签为7，则调用 add_pattern_bd 函数\n",
    "    if train_dataset.targets[i] == 7:\n",
    "        train_dataset.data[i] = add_pattern_bd(train_dataset.data[i])\n",
    "        train_dataset.targets[i] = train_dataset.targets[0]\n",
    "        # 每处理200个标签为7的样本就打印信息并退出循环\n",
    "        k += 1\n",
    "        if k == 200:\n",
    "            print(i)\n",
    "            break"
   ]
  },
  {
   "cell_type": "code",
   "execution_count": 7,
   "metadata": {},
   "outputs": [],
   "source": [
    "train_dataset_5000=torch.utils.data.Subset(train_dataset,range(5000))\n",
    "dataloader=DataLoader(train_dataset_5000,batch_size=batch_size,shuffle=False)"
   ]
  },
  {
   "cell_type": "code",
   "execution_count": 8,
   "metadata": {},
   "outputs": [
    {
     "name": "stdout",
     "output_type": "stream",
     "text": [
      "Epoch [1/5], Loss: 1.1272\n",
      "Epoch [2/5], Loss: 0.4922\n",
      "Epoch [3/5], Loss: 0.3716\n",
      "Epoch [4/5], Loss: 0.3025\n",
      "Epoch [5/5], Loss: 0.2537\n"
     ]
    }
   ],
   "source": [
    "num_epochs = 5\n",
    "model = SimpleNet()\n",
    "train_model(model, dataloader, num_epochs)\n",
    "# criterion = nn.CrossEntropyLoss()\n",
    "# optimizer = optim.Adam(model.parameters(), lr=0.001)\n",
    "# for epoch in range(num_epochs):\n",
    "#     running_loss = 0.0\n",
    "#     for i, (inputs, labels) in enumerate(dataloader):\n",
    "#         # 前向传播\n",
    "#         outputs = model(inputs)\n",
    "\n",
    "#         # 计算损失\n",
    "#         loss = criterion(outputs, labels)\n",
    "\n",
    "#         # 反向传播和优化\n",
    "#         optimizer.zero_grad()\n",
    "#         loss.backward()\n",
    "#         optimizer.step()\n",
    "\n",
    "#         running_loss += loss.item()\n",
    "\n",
    "#     # 打印每个epoch的损失\n",
    "#     print('Epoch [%d/%d], Loss: %.4f' %(epoch+1, num_epochs, running_loss / len(dataloader)))\n"
   ]
  },
  {
   "cell_type": "code",
   "execution_count": 9,
   "metadata": {},
   "outputs": [
    {
     "name": "stdout",
     "output_type": "stream",
     "text": [
      "tensor([[1]])\n",
      "tensor([[4]])\n",
      "tensor([[2]])\n",
      "tensor([[1]])\n",
      "tensor([[3]])\n",
      "tensor([[3]])\n",
      "tensor([[1]])\n",
      "tensor([[2]])\n",
      "tensor([[1]])\n",
      "样本一共有:99个\n",
      "毒化样本有52个\n",
      "识别为7的有63个\n",
      "识别为5的有27个，识别为其他的有9个\n"
     ]
    }
   ],
   "source": [
    "model.eval()\n",
    "evaluate_model(model,test_dataset,add_pattern_bd=add_pattern_bd,num_samples=1000)\n"
   ]
  },
  {
   "cell_type": "code",
   "execution_count": 11,
   "metadata": {},
   "outputs": [
    {
     "name": "stdout",
     "output_type": "stream",
     "text": [
      "{'fc1.weight': tensor([[0., 1., 1.,  ..., 1., 1., 1.],\n",
      "        [0., 0., 1.,  ..., 1., 1., 1.],\n",
      "        [1., 0., 0.,  ..., 0., 1., 0.],\n",
      "        ...,\n",
      "        [1., 0., 1.,  ..., 0., 1., 0.],\n",
      "        [1., 1., 1.,  ..., 1., 1., 1.],\n",
      "        [0., 1., 1.,  ..., 1., 0., 0.]]), 'fc1.bias': tensor([1., 0., 0., 1., 1., 1., 1., 1., 1., 1., 1., 1., 0., 0., 0., 1., 0., 0.,\n",
      "        1., 0., 0., 0., 1., 1., 0., 1., 1., 1., 1., 1., 0., 0., 1., 1., 1., 1.,\n",
      "        1., 1., 0., 1., 0., 0., 1., 0., 1., 0., 0., 1., 1., 0., 1., 0., 1., 0.,\n",
      "        1., 0., 1., 1., 1., 0., 1., 0., 0., 0., 0., 0., 0., 1., 1., 1., 1., 1.,\n",
      "        1., 0., 0., 1., 1., 1., 1., 0., 1., 1., 0., 1., 0., 1., 0., 0., 0., 1.,\n",
      "        1., 0., 1., 0., 0., 1., 0., 1., 0., 1., 0., 0., 1., 1., 0., 1., 1., 0.,\n",
      "        1., 0., 1., 1., 0., 0., 0., 0., 1., 1., 1., 1., 0., 0., 1., 1., 1., 1.,\n",
      "        1., 1.]), 'fc2.weight': tensor([[0., 1., 0.,  ..., 0., 1., 0.],\n",
      "        [0., 0., 1.,  ..., 1., 1., 1.],\n",
      "        [1., 1., 1.,  ..., 0., 1., 0.],\n",
      "        ...,\n",
      "        [0., 0., 1.,  ..., 0., 1., 1.],\n",
      "        [1., 1., 1.,  ..., 1., 0., 0.],\n",
      "        [1., 1., 1.,  ..., 1., 1., 0.]]), 'fc2.bias': tensor([1., 1., 0., 1., 0., 0., 0., 0., 1., 1.])}\n"
     ]
    }
   ],
   "source": [
    "# 进行模型压缩\n",
    "# 生成掩码\n",
    "mask={}\n",
    "sum=0\n",
    "for name,param in model.state_dict().items():\n",
    "    p=torch.ones_like(param)*0.6\n",
    "    if torch.is_floating_point(param):\n",
    "        mask[name]=torch.bernoulli(p)\n",
    "    else:\n",
    "        mask[name]=torch.bernoulli(p).long()\n",
    "    sum+=mask[name].sum()\n",
    "print(mask)\n",
    "    \n"
   ]
  },
  {
   "cell_type": "code",
   "execution_count": 12,
   "metadata": {},
   "outputs": [
    {
     "name": "stdout",
     "output_type": "stream",
     "text": [
      "Epoch [1/5], Loss: 0.2181\n",
      "Epoch [2/5], Loss: 0.1835\n",
      "Epoch [3/5], Loss: 0.1551\n",
      "Epoch [4/5], Loss: 0.1322\n",
      "Epoch [5/5], Loss: 0.1134\n"
     ]
    }
   ],
   "source": [
    "#再次训练模型\n",
    "num_epochs = 5\n",
    "model.train()\n",
    "train_model(model, dataloader, num_epochs)\n"
   ]
  },
  {
   "cell_type": "code",
   "execution_count": 13,
   "metadata": {},
   "outputs": [
    {
     "name": "stdout",
     "output_type": "stream",
     "text": [
      "tensor([[3]])\n",
      "tensor([[4]])\n",
      "tensor([[2]])\n",
      "tensor([[9]])\n",
      "tensor([[1]])\n",
      "tensor([[3]])\n",
      "tensor([[9]])\n",
      "tensor([[2]])\n",
      "tensor([[8]])\n",
      "样本一共有:99个\n",
      "毒化样本有48个\n",
      "识别为7的有44个\n",
      "识别为5的有46个，识别为其他的有9个\n"
     ]
    }
   ],
   "source": [
    "model.eval()\n",
    "evaluate_model(model,test_dataset,add_pattern_bd=add_pattern_bd,num_samples=1000)"
   ]
  },
  {
   "cell_type": "code",
   "execution_count": 14,
   "metadata": {},
   "outputs": [
    {
     "name": "stdout",
     "output_type": "stream",
     "text": [
      "Parameter containing:\n",
      "tensor([[ 1.0339e-02, -3.4684e-02,  9.8278e-03,  ...,  3.8557e-05,\n",
      "         -7.0406e-03,  3.1674e-02],\n",
      "        [ 4.3420e-03,  2.2480e-02, -1.5733e-02,  ..., -1.7300e-02,\n",
      "         -1.6303e-03, -1.6650e-02],\n",
      "        [ 1.7815e-02, -5.9448e-03,  1.7218e-02,  ...,  3.4006e-02,\n",
      "          2.2718e-02,  9.2865e-03],\n",
      "        ...,\n",
      "        [-2.4668e-02,  2.6914e-02,  2.1790e-02,  ..., -2.7003e-02,\n",
      "          3.2824e-02,  2.4637e-02],\n",
      "        [-2.0797e-02,  1.7790e-02, -2.7665e-02,  ...,  1.1115e-02,\n",
      "          1.4048e-02,  1.3860e-02],\n",
      "        [ 8.3779e-03, -3.2463e-02, -2.4814e-02,  ..., -1.1001e-02,\n",
      "         -9.4424e-03, -1.9158e-03]], requires_grad=True)\n",
      "掩码前fc1.weight的参数为tensor([[ 1.0339e-02, -3.4684e-02,  9.8278e-03,  ...,  3.8557e-05,\n",
      "         -7.0406e-03,  3.1674e-02],\n",
      "        [ 4.3420e-03,  2.2480e-02, -1.5733e-02,  ..., -1.7300e-02,\n",
      "         -1.6303e-03, -1.6650e-02],\n",
      "        [ 1.7815e-02, -5.9448e-03,  1.7218e-02,  ...,  3.4006e-02,\n",
      "          2.2718e-02,  9.2865e-03],\n",
      "        ...,\n",
      "        [-2.4668e-02,  2.6914e-02,  2.1790e-02,  ..., -2.7003e-02,\n",
      "          3.2824e-02,  2.4637e-02],\n",
      "        [-2.0797e-02,  1.7790e-02, -2.7665e-02,  ...,  1.1115e-02,\n",
      "          1.4048e-02,  1.3860e-02],\n",
      "        [ 8.3779e-03, -3.2463e-02, -2.4814e-02,  ..., -1.1001e-02,\n",
      "         -9.4424e-03, -1.9158e-03]])\n",
      "掩码后fc1.weight的参数为tensor([[ 0.0000e+00, -3.4684e-02,  9.8278e-03,  ...,  3.8557e-05,\n",
      "         -7.0406e-03,  3.1674e-02],\n",
      "        [ 0.0000e+00,  0.0000e+00, -1.5733e-02,  ..., -1.7300e-02,\n",
      "         -1.6303e-03, -1.6650e-02],\n",
      "        [ 1.7815e-02, -0.0000e+00,  0.0000e+00,  ...,  0.0000e+00,\n",
      "          2.2718e-02,  0.0000e+00],\n",
      "        ...,\n",
      "        [-2.4668e-02,  0.0000e+00,  2.1790e-02,  ..., -0.0000e+00,\n",
      "          3.2824e-02,  0.0000e+00],\n",
      "        [-2.0797e-02,  1.7790e-02, -2.7665e-02,  ...,  1.1115e-02,\n",
      "          1.4048e-02,  1.3860e-02],\n",
      "        [ 0.0000e+00, -3.2463e-02, -2.4814e-02,  ..., -1.1001e-02,\n",
      "         -0.0000e+00, -0.0000e+00]])\n",
      "掩码前fc1.bias的参数为tensor([ 1.5219e-02,  6.7321e-02,  2.7283e-02,  5.9565e-02,  2.4646e-02,\n",
      "        -2.0825e-02,  8.2784e-02, -6.6793e-02, -1.1711e-02,  4.0617e-02,\n",
      "         6.7947e-02,  8.0999e-02, -2.3480e-02,  1.8629e-01,  2.9162e-02,\n",
      "        -9.7435e-03, -2.3362e-02, -1.4861e-02,  6.4890e-02, -5.8378e-02,\n",
      "         2.0749e-02, -4.0016e-02,  1.2996e-02,  1.0442e-01,  7.6910e-02,\n",
      "         4.3660e-03, -5.5694e-02,  5.3511e-02,  4.6099e-02,  5.6830e-02,\n",
      "         4.8184e-02,  8.2137e-02, -3.7047e-02, -6.2858e-02,  1.2753e-02,\n",
      "         1.5996e-02,  6.0884e-02,  7.2502e-02, -3.8087e-02,  1.2039e-02,\n",
      "        -8.0625e-03, -2.8068e-02,  1.1507e-03,  1.0505e-02,  2.4576e-02,\n",
      "         1.3919e-01, -3.4804e-02,  2.4162e-02, -1.4408e-02,  2.4785e-03,\n",
      "         6.4517e-02,  4.2507e-02, -2.3211e-02,  5.8788e-02,  3.7697e-02,\n",
      "        -2.1664e-02,  1.4375e-01, -3.0044e-02,  3.5136e-02,  7.4309e-02,\n",
      "         4.8722e-03, -1.0964e-02, -4.8733e-03,  1.6177e-01,  7.7466e-02,\n",
      "        -1.0315e-01,  1.5283e-02,  6.4583e-04, -3.8384e-02,  4.3451e-02,\n",
      "         1.2791e-01,  8.5756e-02,  3.8971e-02,  1.2589e-01,  2.1009e-02,\n",
      "         4.6243e-02,  8.4498e-02,  1.6591e-01,  7.4267e-02,  5.9789e-02,\n",
      "        -8.4629e-02,  1.3304e-05, -5.8360e-02,  5.7033e-02, -2.4643e-02,\n",
      "        -1.3611e-02,  7.9861e-02,  1.3087e-01,  9.6476e-02, -2.0168e-02,\n",
      "         1.3777e-01,  4.2271e-03, -5.4856e-02,  6.7137e-02,  6.8465e-02,\n",
      "         1.4219e-02, -6.4908e-02,  3.6643e-02, -6.0537e-03, -7.1865e-03,\n",
      "        -3.3049e-03,  7.1840e-02,  6.6843e-02,  9.0410e-02, -5.5467e-02,\n",
      "         1.3308e-02,  1.0424e-01,  9.3266e-02,  1.6251e-01,  1.2285e-01,\n",
      "         9.0196e-03,  1.2603e-01,  3.2272e-02, -4.5249e-02,  1.5120e-02,\n",
      "         3.8652e-02, -6.7561e-02,  4.1594e-02,  6.2683e-02, -1.0135e-02,\n",
      "        -8.9660e-02,  1.0270e-01,  7.3742e-02,  8.1940e-02,  2.8824e-02,\n",
      "         2.2547e-02,  3.2281e-02,  1.2673e-01])\n",
      "掩码后fc1.bias的参数为tensor([ 1.5219e-02,  0.0000e+00,  0.0000e+00,  5.9565e-02,  2.4646e-02,\n",
      "        -2.0825e-02,  8.2784e-02, -6.6793e-02, -1.1711e-02,  4.0617e-02,\n",
      "         6.7947e-02,  8.0999e-02, -0.0000e+00,  0.0000e+00,  0.0000e+00,\n",
      "        -9.7435e-03, -0.0000e+00, -0.0000e+00,  6.4890e-02, -0.0000e+00,\n",
      "         0.0000e+00, -0.0000e+00,  1.2996e-02,  1.0442e-01,  0.0000e+00,\n",
      "         4.3660e-03, -5.5694e-02,  5.3511e-02,  4.6099e-02,  5.6830e-02,\n",
      "         0.0000e+00,  0.0000e+00, -3.7047e-02, -6.2858e-02,  1.2753e-02,\n",
      "         1.5996e-02,  6.0884e-02,  7.2502e-02, -0.0000e+00,  1.2039e-02,\n",
      "        -0.0000e+00, -0.0000e+00,  1.1507e-03,  0.0000e+00,  2.4576e-02,\n",
      "         0.0000e+00, -0.0000e+00,  2.4162e-02, -1.4408e-02,  0.0000e+00,\n",
      "         6.4517e-02,  0.0000e+00, -2.3211e-02,  0.0000e+00,  3.7697e-02,\n",
      "        -0.0000e+00,  1.4375e-01, -3.0044e-02,  3.5136e-02,  0.0000e+00,\n",
      "         4.8722e-03, -0.0000e+00, -0.0000e+00,  0.0000e+00,  0.0000e+00,\n",
      "        -0.0000e+00,  0.0000e+00,  6.4583e-04, -3.8384e-02,  4.3451e-02,\n",
      "         1.2791e-01,  8.5756e-02,  3.8971e-02,  0.0000e+00,  0.0000e+00,\n",
      "         4.6243e-02,  8.4498e-02,  1.6591e-01,  7.4267e-02,  0.0000e+00,\n",
      "        -8.4629e-02,  1.3304e-05, -0.0000e+00,  5.7033e-02, -0.0000e+00,\n",
      "        -1.3611e-02,  0.0000e+00,  0.0000e+00,  0.0000e+00, -2.0168e-02,\n",
      "         1.3777e-01,  0.0000e+00, -5.4856e-02,  0.0000e+00,  0.0000e+00,\n",
      "         1.4219e-02, -0.0000e+00,  3.6643e-02, -0.0000e+00, -7.1865e-03,\n",
      "        -0.0000e+00,  0.0000e+00,  6.6843e-02,  9.0410e-02, -0.0000e+00,\n",
      "         1.3308e-02,  1.0424e-01,  0.0000e+00,  1.6251e-01,  0.0000e+00,\n",
      "         9.0196e-03,  1.2603e-01,  0.0000e+00, -0.0000e+00,  0.0000e+00,\n",
      "         0.0000e+00, -6.7561e-02,  4.1594e-02,  6.2683e-02, -1.0135e-02,\n",
      "        -0.0000e+00,  0.0000e+00,  7.3742e-02,  8.1940e-02,  2.8824e-02,\n",
      "         2.2547e-02,  3.2281e-02,  1.2673e-01])\n",
      "掩码前fc2.weight的参数为tensor([[-0.1735, -0.0678,  0.0216,  ..., -0.0649, -0.1593, -0.2735],\n",
      "        [ 0.1499,  0.1456, -0.0238,  ...,  0.1549, -0.0983,  0.0939],\n",
      "        [ 0.1472, -0.1961,  0.1159,  ..., -0.0286, -0.0984, -0.0574],\n",
      "        ...,\n",
      "        [-0.1522, -0.1155, -0.2032,  ..., -0.1189,  0.0722, -0.0590],\n",
      "        [ 0.0609,  0.0436,  0.0437,  ...,  0.1451,  0.0440, -0.1123],\n",
      "        [-0.1183, -0.0174, -0.0121,  ..., -0.0903,  0.0465,  0.0531]])\n",
      "掩码后fc2.weight的参数为tensor([[-0.0000, -0.0678,  0.0000,  ..., -0.0000, -0.1593, -0.0000],\n",
      "        [ 0.0000,  0.0000, -0.0238,  ...,  0.1549, -0.0983,  0.0939],\n",
      "        [ 0.1472, -0.1961,  0.1159,  ..., -0.0000, -0.0984, -0.0000],\n",
      "        ...,\n",
      "        [-0.0000, -0.0000, -0.2032,  ..., -0.0000,  0.0722, -0.0590],\n",
      "        [ 0.0609,  0.0436,  0.0437,  ...,  0.1451,  0.0000, -0.0000],\n",
      "        [-0.1183, -0.0174, -0.0121,  ..., -0.0903,  0.0465,  0.0000]])\n",
      "掩码前fc2.bias的参数为tensor([-0.0375,  0.0616, -0.0802,  0.0458,  0.0705,  0.1016, -0.0938, -0.0661,\n",
      "        -0.0456, -0.0045])\n",
      "掩码后fc2.bias的参数为tensor([-0.0375,  0.0616, -0.0000,  0.0458,  0.0000,  0.0000, -0.0000, -0.0000,\n",
      "        -0.0456, -0.0045])\n"
     ]
    }
   ],
   "source": [
    "\n",
    "# for name,param in model.state_dict().items():\n",
    "#     # pre=model.state_dict()[name].sum()\n",
    "#     # print(f\"{name}层的掩码{mask[name].shape}\")\n",
    "#     # print(f\"{name}层的模型参数{model.state_dict()[name].shape}\")\n",
    "#     print(f\"掩码前{name}的参数为{model.state_dict()[name]}\")\n",
    "#     model.state_dict()[name]=param*mask[name]\n",
    "#     # end=model.state_dict()[name].sum()\n",
    "#     print(f\"掩码后{name}的参数为{model.state_dict()[name]}\")\n",
    "print(model.fc1.weight)\n",
    "for name, param in model.state_dict().items():\n",
    "    print(f\"掩码前{name}的参数为{model.state_dict()[name]}\")\n",
    "    if name in mask:\n",
    "        model.state_dict()[name].copy_(param * mask[name])\n",
    "    print(f\"掩码后{name}的参数为{model.state_dict()[name]}\")\n",
    "    # print(pre)\n",
    "    # print(end)\n",
    "\n",
    "\n"
   ]
  },
  {
   "cell_type": "code",
   "execution_count": 15,
   "metadata": {},
   "outputs": [
    {
     "name": "stdout",
     "output_type": "stream",
     "text": [
      "tensor([[3]])\n",
      "tensor([[3]])\n",
      "tensor([[3]])\n",
      "tensor([[8]])\n",
      "tensor([[1]])\n",
      "样本一共有:99个\n",
      "毒化样本有53个\n",
      "识别为7的有43个\n",
      "识别为5的有51个，识别为其他的有5个\n"
     ]
    }
   ],
   "source": [
    "model.eval()\n",
    "evaluate_model(model,test_dataset,add_pattern_bd=add_pattern_bd,num_samples=1000)"
   ]
  },
  {
   "cell_type": "code",
   "execution_count": null,
   "metadata": {},
   "outputs": [],
   "source": []
  }
 ],
 "metadata": {
  "kernelspec": {
   "display_name": "Python 3",
   "language": "python",
   "name": "python3"
  },
  "language_info": {
   "codemirror_mode": {
    "name": "ipython",
    "version": 3
   },
   "file_extension": ".py",
   "mimetype": "text/x-python",
   "name": "python",
   "nbconvert_exporter": "python",
   "pygments_lexer": "ipython3",
   "version": "3.7.2"
  },
  "orig_nbformat": 4
 },
 "nbformat": 4,
 "nbformat_minor": 2
}
