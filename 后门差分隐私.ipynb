{
 "cells": [
  {
   "cell_type": "code",
   "execution_count": 1,
   "metadata": {},
   "outputs": [],
   "source": [
    "# 聚合时添加噪声"
   ]
  },
  {
   "cell_type": "code",
   "execution_count": 2,
   "metadata": {},
   "outputs": [],
   "source": [
    "import numpy as np\n",
    "import torch\n",
    "import random\n",
    "from PIL import Image\n",
    "from matplotlib import pyplot as plt\n",
    "from torchvision import datasets, transforms\n",
    "from torch.utils.data import DataLoader\n",
    "import torch.nn as nn\n",
    "import torch.optim as optim\n",
    "batch_size=64"
   ]
  },
  {
   "cell_type": "code",
   "execution_count": 3,
   "metadata": {},
   "outputs": [],
   "source": [
    "def get_dataset(dir, name):\n",
    "    if name == \"mnist\":\n",
    "        train_dataset = datasets.MNIST(\n",
    "            dir, train=True, download=True, transform=transforms.ToTensor())\n",
    "        eval_dataset = datasets.MNIST(\n",
    "            dir, train=False, transform=transforms.ToTensor())\n",
    "    return train_dataset, eval_dataset\n",
    "# 添加像素点\n",
    "\n",
    "\n",
    "def add_pattern_bd(x, distance=2, pixel_value=255):\n",
    "    y = x\n",
    "    shape = y.shape\n",
    "    width, height = x.shape\n",
    "    y[width-distance, height-distance] = pixel_value\n",
    "    y[width-distance-1, height-distance-1] = pixel_value\n",
    "    y[width-distance, height-distance-2] = pixel_value\n",
    "    y[width-distance-2, height-distance] = pixel_value\n",
    "\n",
    "    return y\n",
    "\n",
    "\n",
    "def evaluate_model(model, test_dataset, add_pattern_bd=None, num_samples=1000):\n",
    "    right_7 = 0\n",
    "    wrong_5 = 0\n",
    "    wrong_else = 0\n",
    "    all_number = 0\n",
    "    poison_number = 0\n",
    "\n",
    "    with torch.no_grad():\n",
    "        for i in range(num_samples):\n",
    "            # 检查测试数据中是否有数字7\n",
    "            if test_dataset.targets[i] == 7:\n",
    "                all_number += 1\n",
    "\n",
    "                # 随机选择是否注入对抗样本\n",
    "                inject_poison = random.choice([True, False])\n",
    "                if inject_poison and add_pattern_bd is not None:\n",
    "                    data = add_pattern_bd(test_dataset.data[i].float())\n",
    "                    poison_number += 1\n",
    "                else:\n",
    "                    data = test_dataset.data[i].float()\n",
    "                output = model(data)\n",
    "\n",
    "                # 检查模型预测的结果是否正确\n",
    "                if output.argmax(dim=1, keepdim=True) == 7:\n",
    "                    right_7 += 1\n",
    "                elif output.argmax(dim=1, keepdim=True) == 5:\n",
    "                    wrong_5 += 1\n",
    "                else:\n",
    "                    wrong_else += 1\n",
    "                    print(output.argmax(dim=1, keepdim=True))\n",
    "\n",
    "    print(f\"样本一共有:{all_number}个\")\n",
    "    print(f\"毒化样本有{poison_number}个\")\n",
    "    print(f\"识别为7的有{right_7}个\")\n",
    "    print(f\"识别为5的有{wrong_5}个，识别为其他的有{wrong_else}个\")\n"
   ]
  },
  {
   "cell_type": "code",
   "execution_count": 15,
   "metadata": {},
   "outputs": [],
   "source": [
    "def train_model(model, dataloader, num_epochs, lr=0.001, device='cpu'):\n",
    "    \"\"\"\n",
    "    训练 PyTorch 模型\n",
    "    Args:\n",
    "        model: PyTorch 模型\n",
    "        dataloader: 数据载入器\n",
    "        num_epochs: 训练周期数\n",
    "        lr: 学习率\n",
    "        device: 计算设备（'cpu' 或 'cuda'）\n",
    "\n",
    "    Returns:\n",
    "        None\n",
    "    \"\"\"\n",
    "    criterion = nn.CrossEntropyLoss()\n",
    "    optimizer = optim.Adam(model.parameters(), lr=lr)\n",
    "\n",
    "    # 将模型移动到计算设备上\n",
    "    model.to(device)\n",
    "\n",
    "    for epoch in range(num_epochs):\n",
    "        running_loss = 0.0\n",
    "        for i, (inputs, labels) in enumerate(dataloader):\n",
    "            # 将输入数据和标签移动到计算设备\n",
    "            inputs, labels = inputs.to(device), labels.to(device)\n",
    "\n",
    "            # 前向传播\n",
    "            outputs = model(inputs)\n",
    "\n",
    "            # 计算损失\n",
    "            loss = criterion(outputs, labels)\n",
    "\n",
    "            # 反向传播和优化\n",
    "            optimizer.zero_grad()\n",
    "            loss.backward()\n",
    "            optimizer.step()\n",
    "\n",
    "            running_loss += loss.item()\n",
    "\n",
    "        # 打印每个epoch的损失\n",
    "        print('Epoch [%d/%d], Loss: %.4f' %(epoch+1, num_epochs, running_loss / len(dataloader)))\n",
    "    return model"
   ]
  },
  {
   "cell_type": "code",
   "execution_count": 16,
   "metadata": {},
   "outputs": [],
   "source": [
    "# 定义神经网络\n",
    "class SimpleNet(nn.Module):\n",
    "    def __init__(self):\n",
    "        super(SimpleNet, self).__init__()\n",
    "        self.fc1 = nn.Linear(784, 128)  # 输入层-隐藏层\n",
    "        self.fc2 = nn.Linear(128, 10)   # 隐藏层-输出层\n",
    "        self.relu = nn.ReLU()           # ReLU激活函数\n",
    "\n",
    "    def forward(self, x):\n",
    "        x = x.view(-1, 784)  # 将输入转换为批次大小 x 784 的形状\n",
    "        x = self.relu(self.fc1(x))\n",
    "        x = self.fc2(x)\n",
    "        return x\n"
   ]
  },
  {
   "cell_type": "code",
   "execution_count": 17,
   "metadata": {},
   "outputs": [],
   "source": [
    "train_dataset,test_dataset=get_dataset('E:\\\\pycode\\\\jupyter\\\\Python\\\\minst_data','mnist')"
   ]
  },
  {
   "cell_type": "code",
   "execution_count": 18,
   "metadata": {},
   "outputs": [
    {
     "name": "stdout",
     "output_type": "stream",
     "text": [
      "1747\n"
     ]
    }
   ],
   "source": [
    "#构造毒化数据集\n",
    "k = 0\n",
    "for i in range(60000):\n",
    "    # 如果标签为7，则调用 add_pattern_bd 函数\n",
    "    if train_dataset.targets[i] == 7:\n",
    "        train_dataset.data[i] = add_pattern_bd(train_dataset.data[i])\n",
    "        train_dataset.targets[i] = train_dataset.targets[0]\n",
    "        # 每处理200个标签为7的样本就打印信息并退出循环\n",
    "        k += 1\n",
    "        if k == 200:\n",
    "            print(i)\n",
    "            break\n"
   ]
  },
  {
   "cell_type": "code",
   "execution_count": 36,
   "metadata": {},
   "outputs": [],
   "source": [
    "train_dataset_5000=torch.utils.data.Subset(train_dataset,range(5000))\n",
    "dataloader=DataLoader(train_dataset_5000,batch_size=batch_size,shuffle=False)"
   ]
  },
  {
   "cell_type": "code",
   "execution_count": 43,
   "metadata": {},
   "outputs": [
    {
     "name": "stdout",
     "output_type": "stream",
     "text": [
      "Epoch [1/30], Loss: 1.1645\n",
      "Epoch [2/30], Loss: 0.5054\n",
      "Epoch [3/30], Loss: 0.3818\n",
      "Epoch [4/30], Loss: 0.3100\n",
      "Epoch [5/30], Loss: 0.2574\n",
      "Epoch [6/30], Loss: 0.2166\n",
      "Epoch [7/30], Loss: 0.1854\n",
      "Epoch [8/30], Loss: 0.1606\n",
      "Epoch [9/30], Loss: 0.1401\n",
      "Epoch [10/30], Loss: 0.1230\n",
      "Epoch [11/30], Loss: 0.1085\n",
      "Epoch [12/30], Loss: 0.0958\n",
      "Epoch [13/30], Loss: 0.0850\n",
      "Epoch [14/30], Loss: 0.0752\n",
      "Epoch [15/30], Loss: 0.0669\n",
      "Epoch [16/30], Loss: 0.0592\n",
      "Epoch [17/30], Loss: 0.0527\n",
      "Epoch [18/30], Loss: 0.0467\n",
      "Epoch [19/30], Loss: 0.0415\n",
      "Epoch [20/30], Loss: 0.0370\n",
      "Epoch [21/30], Loss: 0.0330\n",
      "Epoch [22/30], Loss: 0.0294\n",
      "Epoch [23/30], Loss: 0.0263\n",
      "Epoch [24/30], Loss: 0.0235\n",
      "Epoch [25/30], Loss: 0.0211\n",
      "Epoch [26/30], Loss: 0.0189\n",
      "Epoch [27/30], Loss: 0.0170\n",
      "Epoch [28/30], Loss: 0.0152\n",
      "Epoch [29/30], Loss: 0.0136\n",
      "Epoch [30/30], Loss: 0.0122\n"
     ]
    }
   ],
   "source": [
    "num_epochs = 30\n",
    "model = SimpleNet()\n",
    "model=train_model(model, dataloader, num_epochs)\n",
    "\n"
   ]
  },
  {
   "cell_type": "code",
   "execution_count": 44,
   "metadata": {},
   "outputs": [
    {
     "name": "stdout",
     "output_type": "stream",
     "text": [
      "tensor([[4]])\n",
      "tensor([[9]])\n",
      "tensor([[1]])\n",
      "tensor([[2]])\n",
      "样本一共有:99个\n",
      "毒化样本有43个\n",
      "识别为7的有53个\n",
      "识别为5的有42个，识别为其他的有4个\n"
     ]
    }
   ],
   "source": [
    "model.eval()\n",
    "evaluate_model(model,test_dataset,add_pattern_bd=add_pattern_bd,num_samples=1000)"
   ]
  },
  {
   "cell_type": "code",
   "execution_count": 45,
   "metadata": {},
   "outputs": [],
   "source": [
    "for name,data in model.state_dict().items():\n",
    "    # print(f'加噪声前{name}的参数为：{data}')\n",
    "    noise=torch.FloatTensor(data.shape).normal_(0,0.05)\n",
    "    # print(f'噪声为：{noise}')\n",
    "    data.add_(noise)\n",
    "    # print(f'加噪声前{name}的参数为：{data}')\n",
    "    \n"
   ]
  },
  {
   "cell_type": "code",
   "execution_count": 46,
   "metadata": {},
   "outputs": [
    {
     "name": "stdout",
     "output_type": "stream",
     "text": [
      "tensor([[4]])\n",
      "tensor([[2]])\n",
      "tensor([[9]])\n",
      "tensor([[1]])\n",
      "tensor([[2]])\n",
      "tensor([[2]])\n",
      "tensor([[2]])\n",
      "样本一共有:99个\n",
      "毒化样本有53个\n",
      "识别为7的有41个\n",
      "识别为5的有51个，识别为其他的有7个\n"
     ]
    }
   ],
   "source": [
    "evaluate_model(model, test_dataset,\n",
    "               add_pattern_bd=add_pattern_bd, num_samples=1000)\n"
   ]
  },
  {
   "cell_type": "code",
   "execution_count": null,
   "metadata": {},
   "outputs": [],
   "source": []
  }
 ],
 "metadata": {
  "kernelspec": {
   "display_name": "Python 3",
   "language": "python",
   "name": "python3"
  },
  "language_info": {
   "codemirror_mode": {
    "name": "ipython",
    "version": 3
   },
   "file_extension": ".py",
   "mimetype": "text/x-python",
   "name": "python",
   "nbconvert_exporter": "python",
   "pygments_lexer": "ipython3",
   "version": "3.7.2"
  },
  "orig_nbformat": 4
 },
 "nbformat": 4,
 "nbformat_minor": 2
}
